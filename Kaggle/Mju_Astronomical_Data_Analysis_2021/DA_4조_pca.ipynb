{
 "cells": [
  {
   "cell_type": "code",
   "execution_count": 1,
   "metadata": {},
   "outputs": [],
   "source": [
    "import pandas as pd\n",
    "import numpy as np\n",
    "import tensorflow as tf\n",
    "from keras import layers, models\n",
    "from tensorflow.keras.models import Sequential\n",
    "from tensorflow.keras.layers import Dense"
   ]
  },
  {
   "cell_type": "code",
   "execution_count": 2,
   "metadata": {},
   "outputs": [],
   "source": [
    "train_data = pd.read_csv(\"train.csv\")\n",
    "test_data = pd.read_csv(\"test.csv\")\n",
    "train_data.drop(['ID'],axis =1, inplace = True)\n",
    "test_data.drop(['ID'],axis =1, inplace = True)\n",
    "out_data = train_data[train_data['class']== -999].index\n",
    "new_train_data = train_data.drop(out_data)"
   ]
  },
  {
   "cell_type": "code",
   "execution_count": 3,
   "metadata": {},
   "outputs": [],
   "source": [
    "X_train = new_train_data.drop(['class'], axis=1)\n",
    "y_train = new_train_data['class']"
   ]
  },
  {
   "cell_type": "code",
   "execution_count": 4,
   "metadata": {},
   "outputs": [
    {
     "data": {
      "text/plain": [
       "array([[ 1.52747072e-01,  1.60454967e+00, -6.39206256e-01, ...,\n",
       "        -1.26987621e+00, -2.65687391e-01, -1.68594206e-01],\n",
       "       [ 1.96820817e+00,  3.89088651e-01,  2.03708330e-01, ...,\n",
       "         2.73327118e-01,  1.89399286e-02,  8.33234947e-02],\n",
       "       [-1.44959748e+00, -1.63592840e+00,  3.14011542e-01, ...,\n",
       "         7.47206376e-01,  3.37180099e-02,  1.74161616e-01],\n",
       "       ...,\n",
       "       [ 1.26463217e+00, -2.59773812e-01,  6.35339861e-01, ...,\n",
       "         1.25411023e+00,  2.27671536e-01,  1.36708441e-01],\n",
       "       [-1.18675465e+00, -1.17255651e+00, -8.23475390e-01, ...,\n",
       "        -1.04407660e+00, -2.23102021e-01, -1.89598514e-01],\n",
       "       [ 1.00179475e+00,  9.86949330e-01,  1.81359903e+00, ...,\n",
       "        -1.22618051e+00, -1.80839144e-01, -1.96431244e-03]])"
      ]
     },
     "execution_count": 4,
     "metadata": {},
     "output_type": "execute_result"
    }
   ],
   "source": [
    "from sklearn.preprocessing import StandardScaler\n",
    "\n",
    "scaler = StandardScaler()\n",
    "scaler.fit(X_train)\n",
    "scaler.transform(X_train)\n",
    "scaler.fit(test_data)\n",
    "scaler.transform(test_data)"
   ]
  },
  {
   "cell_type": "code",
   "execution_count": 5,
   "metadata": {},
   "outputs": [],
   "source": [
    "from sklearn.preprocessing import LabelEncoder\n",
    "LE = LabelEncoder()\n",
    "LE.fit(y_train)\n",
    "y_train = LE.transform(y_train)\n",
    "\n",
    "from keras.utils import np_utils\n",
    "y_train = np_utils.to_categorical(y_train)"
   ]
  },
  {
   "cell_type": "code",
   "execution_count": 6,
   "metadata": {},
   "outputs": [],
   "source": [
    "from sklearn.decomposition import PCA\n",
    "pca = PCA(n_components=2) # 주성분을 몇개로 할지 결정\n",
    "printcipalComponents = pca.fit_transform(X_train)\n",
    "principalDf = pd.DataFrame(data=printcipalComponents, columns = ['principal component1', 'principal component2'])"
   ]
  },
  {
   "cell_type": "code",
   "execution_count": 7,
   "metadata": {},
   "outputs": [
    {
     "data": {
      "text/plain": [
       "array([0.71296963, 0.13582114])"
      ]
     },
     "execution_count": 7,
     "metadata": {},
     "output_type": "execute_result"
    }
   ],
   "source": [
    "pca.explained_variance_ratio_"
   ]
  },
  {
   "cell_type": "code",
   "execution_count": 8,
   "metadata": {},
   "outputs": [
    {
     "data": {
      "text/plain": [
       "0.8487907711036536"
      ]
     },
     "execution_count": 8,
     "metadata": {},
     "output_type": "execute_result"
    }
   ],
   "source": [
    "sum(pca.explained_variance_ratio_)"
   ]
  },
  {
   "cell_type": "code",
   "execution_count": 10,
   "metadata": {},
   "outputs": [
    {
     "data": {
      "text/plain": [
       "(4789, 10)"
      ]
     },
     "execution_count": 10,
     "metadata": {},
     "output_type": "execute_result"
    }
   ],
   "source": [
    "X_train['pca1'] = principalDf['principal component1']\n",
    "X_train['pca2'] = principalDf['principal component2']\n",
    "X_train.shape"
   ]
  },
  {
   "cell_type": "code",
   "execution_count": null,
   "metadata": {},
   "outputs": [],
   "source": []
  },
  {
   "cell_type": "code",
   "execution_count": 28,
   "metadata": {},
   "outputs": [],
   "source": [
    "input_node = 8\n",
    "hidden_node = [16, 16]\n",
    "output_node = 4\n",
    "\n",
    "model = Sequential()\n",
    "model.add(Dense(hidden_node[0], input_dim = input_node, kernel_initializer = 'normal', activation = 'relu', name = 'Hidden1'))\n",
    "model.add(Dense(hidden_node[1], activation = 'relu', name = 'Hidden2'))\n",
    "model.add(Dense(output_node, activation = 'softmax'))"
   ]
  },
  {
   "cell_type": "code",
   "execution_count": 29,
   "metadata": {},
   "outputs": [],
   "source": [
    "model.compile(loss = 'categorical_crossentropy', optimizer = 'adam', metrics = 'accuracy')"
   ]
  },
  {
   "cell_type": "code",
   "execution_count": 30,
   "metadata": {},
   "outputs": [
    {
     "name": "stdout",
     "output_type": "stream",
     "text": [
      "Epoch 1/50\n",
      "336/336 [==============================] - 1s 2ms/step - loss: 1.0315 - accuracy: 0.5826 - val_loss: 0.8294 - val_accuracy: 0.5957\n",
      "Epoch 2/50\n",
      "336/336 [==============================] - 1s 2ms/step - loss: 0.7277 - accuracy: 0.6829 - val_loss: 0.6852 - val_accuracy: 0.7411\n",
      "Epoch 3/50\n",
      "336/336 [==============================] - 1s 2ms/step - loss: 0.6210 - accuracy: 0.7488 - val_loss: 0.6201 - val_accuracy: 0.7467\n",
      "Epoch 4/50\n",
      "336/336 [==============================] - 1s 2ms/step - loss: 0.5780 - accuracy: 0.7727 - val_loss: 0.6064 - val_accuracy: 0.7397\n",
      "Epoch 5/50\n",
      "336/336 [==============================] - 1s 2ms/step - loss: 0.5596 - accuracy: 0.7730 - val_loss: 0.5741 - val_accuracy: 0.7676\n",
      "Epoch 6/50\n",
      "336/336 [==============================] - 1s 2ms/step - loss: 0.5477 - accuracy: 0.7786 - val_loss: 0.5619 - val_accuracy: 0.7745\n",
      "Epoch 7/50\n",
      "336/336 [==============================] - 1s 2ms/step - loss: 0.5354 - accuracy: 0.7852 - val_loss: 0.5546 - val_accuracy: 0.7738\n",
      "Epoch 8/50\n",
      "336/336 [==============================] - 1s 2ms/step - loss: 0.5248 - accuracy: 0.7927 - val_loss: 0.5723 - val_accuracy: 0.7878\n",
      "Epoch 9/50\n",
      "336/336 [==============================] - 1s 2ms/step - loss: 0.5174 - accuracy: 0.7950 - val_loss: 0.5396 - val_accuracy: 0.7871\n",
      "Epoch 10/50\n",
      "336/336 [==============================] - 1s 2ms/step - loss: 0.5119 - accuracy: 0.7995 - val_loss: 0.5407 - val_accuracy: 0.7891\n",
      "Epoch 11/50\n",
      "336/336 [==============================] - 1s 2ms/step - loss: 0.5050 - accuracy: 0.7986 - val_loss: 0.5293 - val_accuracy: 0.7919\n",
      "Epoch 12/50\n",
      "336/336 [==============================] - 1s 2ms/step - loss: 0.4995 - accuracy: 0.8052 - val_loss: 0.5411 - val_accuracy: 0.7954\n",
      "Epoch 13/50\n",
      "336/336 [==============================] - 1s 2ms/step - loss: 0.4939 - accuracy: 0.8091 - val_loss: 0.5169 - val_accuracy: 0.7996\n",
      "Epoch 14/50\n",
      "336/336 [==============================] - 1s 2ms/step - loss: 0.4858 - accuracy: 0.8115 - val_loss: 0.5094 - val_accuracy: 0.8135\n",
      "Epoch 15/50\n",
      "336/336 [==============================] - 1s 2ms/step - loss: 0.4811 - accuracy: 0.8085 - val_loss: 0.5093 - val_accuracy: 0.8163\n",
      "Epoch 16/50\n",
      "336/336 [==============================] - 1s 2ms/step - loss: 0.4747 - accuracy: 0.8150 - val_loss: 0.5027 - val_accuracy: 0.8142\n",
      "Epoch 17/50\n",
      "336/336 [==============================] - 1s 2ms/step - loss: 0.4707 - accuracy: 0.8124 - val_loss: 0.5236 - val_accuracy: 0.8086\n",
      "Epoch 18/50\n",
      "336/336 [==============================] - 1s 2ms/step - loss: 0.4670 - accuracy: 0.8100 - val_loss: 0.5021 - val_accuracy: 0.8149\n",
      "Epoch 19/50\n",
      "336/336 [==============================] - 1s 2ms/step - loss: 0.4609 - accuracy: 0.8174 - val_loss: 0.5022 - val_accuracy: 0.8058\n",
      "Epoch 20/50\n",
      "336/336 [==============================] - 1s 2ms/step - loss: 0.4591 - accuracy: 0.8186 - val_loss: 0.4997 - val_accuracy: 0.7947\n",
      "Epoch 21/50\n",
      "336/336 [==============================] - 1s 2ms/step - loss: 0.4561 - accuracy: 0.8237 - val_loss: 0.4903 - val_accuracy: 0.8191\n",
      "Epoch 22/50\n",
      "336/336 [==============================] - 1s 2ms/step - loss: 0.4537 - accuracy: 0.8180 - val_loss: 0.4992 - val_accuracy: 0.8219\n",
      "Epoch 23/50\n",
      "336/336 [==============================] - 1s 2ms/step - loss: 0.4508 - accuracy: 0.8279 - val_loss: 0.4891 - val_accuracy: 0.8065\n",
      "Epoch 24/50\n",
      "336/336 [==============================] - 1s 2ms/step - loss: 0.4460 - accuracy: 0.8219 - val_loss: 0.4957 - val_accuracy: 0.8163\n",
      "Epoch 25/50\n",
      "336/336 [==============================] - 1s 2ms/step - loss: 0.4403 - accuracy: 0.8264 - val_loss: 0.4798 - val_accuracy: 0.8225\n",
      "Epoch 26/50\n",
      "336/336 [==============================] - 1s 2ms/step - loss: 0.4409 - accuracy: 0.8273 - val_loss: 0.4791 - val_accuracy: 0.8260\n",
      "Epoch 27/50\n",
      "336/336 [==============================] - 1s 2ms/step - loss: 0.4366 - accuracy: 0.8216 - val_loss: 0.5028 - val_accuracy: 0.8163\n",
      "Epoch 28/50\n",
      "336/336 [==============================] - 1s 2ms/step - loss: 0.4336 - accuracy: 0.8261 - val_loss: 0.4819 - val_accuracy: 0.8065\n",
      "Epoch 29/50\n",
      "336/336 [==============================] - 1s 2ms/step - loss: 0.4323 - accuracy: 0.8311 - val_loss: 0.4794 - val_accuracy: 0.8212\n",
      "Epoch 30/50\n",
      "336/336 [==============================] - 1s 2ms/step - loss: 0.4310 - accuracy: 0.8300 - val_loss: 0.4721 - val_accuracy: 0.8170\n",
      "Epoch 31/50\n",
      "336/336 [==============================] - 1s 3ms/step - loss: 0.4263 - accuracy: 0.8305 - val_loss: 0.4808 - val_accuracy: 0.8232\n",
      "Epoch 32/50\n",
      "336/336 [==============================] - 1s 2ms/step - loss: 0.4233 - accuracy: 0.8344 - val_loss: 0.4763 - val_accuracy: 0.8239\n",
      "Epoch 33/50\n",
      "336/336 [==============================] - 1s 2ms/step - loss: 0.4193 - accuracy: 0.8347 - val_loss: 0.4970 - val_accuracy: 0.8184\n",
      "Epoch 34/50\n",
      "336/336 [==============================] - 1s 2ms/step - loss: 0.4182 - accuracy: 0.8362 - val_loss: 0.4655 - val_accuracy: 0.8260\n",
      "Epoch 35/50\n",
      "336/336 [==============================] - 1s 2ms/step - loss: 0.4199 - accuracy: 0.8350 - val_loss: 0.4722 - val_accuracy: 0.8330\n",
      "Epoch 36/50\n",
      "336/336 [==============================] - 1s 2ms/step - loss: 0.4188 - accuracy: 0.8317 - val_loss: 0.4751 - val_accuracy: 0.8309\n",
      "Epoch 37/50\n",
      "336/336 [==============================] - 1s 2ms/step - loss: 0.4137 - accuracy: 0.8353 - val_loss: 0.4633 - val_accuracy: 0.8225\n",
      "Epoch 38/50\n",
      "336/336 [==============================] - 1s 2ms/step - loss: 0.4120 - accuracy: 0.8368 - val_loss: 0.4793 - val_accuracy: 0.8239\n",
      "Epoch 39/50\n",
      "336/336 [==============================] - 1s 2ms/step - loss: 0.4122 - accuracy: 0.8362 - val_loss: 0.4707 - val_accuracy: 0.8246\n",
      "Epoch 40/50\n",
      "336/336 [==============================] - 1s 2ms/step - loss: 0.4085 - accuracy: 0.8341 - val_loss: 0.4599 - val_accuracy: 0.8239\n",
      "Epoch 41/50\n",
      "336/336 [==============================] - 1s 2ms/step - loss: 0.4084 - accuracy: 0.8323 - val_loss: 0.4740 - val_accuracy: 0.8232\n",
      "Epoch 42/50\n",
      "336/336 [==============================] - 1s 2ms/step - loss: 0.4092 - accuracy: 0.8320 - val_loss: 0.4701 - val_accuracy: 0.8253\n",
      "Epoch 43/50\n",
      "336/336 [==============================] - 1s 2ms/step - loss: 0.4058 - accuracy: 0.8383 - val_loss: 0.4755 - val_accuracy: 0.8219\n",
      "Epoch 44/50\n",
      "336/336 [==============================] - 1s 2ms/step - loss: 0.4046 - accuracy: 0.8383 - val_loss: 0.4564 - val_accuracy: 0.8302\n",
      "Epoch 45/50\n",
      "336/336 [==============================] - 1s 2ms/step - loss: 0.4028 - accuracy: 0.8332 - val_loss: 0.4562 - val_accuracy: 0.8302\n",
      "Epoch 46/50\n",
      "336/336 [==============================] - 1s 2ms/step - loss: 0.4032 - accuracy: 0.8356 - val_loss: 0.4608 - val_accuracy: 0.8239\n",
      "Epoch 47/50\n",
      "336/336 [==============================] - 1s 2ms/step - loss: 0.4023 - accuracy: 0.8344 - val_loss: 0.4581 - val_accuracy: 0.8184\n",
      "Epoch 48/50\n",
      "336/336 [==============================] - 1s 2ms/step - loss: 0.4012 - accuracy: 0.8410 - val_loss: 0.4540 - val_accuracy: 0.8365\n",
      "Epoch 49/50\n",
      "336/336 [==============================] - 1s 2ms/step - loss: 0.3999 - accuracy: 0.8392 - val_loss: 0.4584 - val_accuracy: 0.8239\n",
      "Epoch 50/50\n",
      "336/336 [==============================] - 1s 2ms/step - loss: 0.3994 - accuracy: 0.8377 - val_loss: 0.4727 - val_accuracy: 0.8260\n"
     ]
    },
    {
     "data": {
      "text/plain": [
       "<keras.callbacks.History at 0x1e250427c10>"
      ]
     },
     "execution_count": 30,
     "metadata": {},
     "output_type": "execute_result"
    }
   ],
   "source": [
    "model.fit(X_train, y_train, epochs = 50, batch_size = 10, validation_split = 0.3)"
   ]
  },
  {
   "cell_type": "code",
   "execution_count": 31,
   "metadata": {},
   "outputs": [
    {
     "name": "stdout",
     "output_type": "stream",
     "text": [
      "[[9.5013911e-01 4.9603142e-02 1.8649714e-04 7.1187649e-05]\n",
      " [4.3480126e-03 5.0748871e-03 9.8588276e-01 4.6943827e-03]\n",
      " [5.1337242e-01 4.8600683e-01 9.9659583e-06 6.1074545e-04]\n",
      " ...\n",
      " [2.1909981e-03 1.7267333e-02 9.3250406e-01 4.8037600e-02]\n",
      " [9.9058551e-01 9.4141783e-03 5.6934702e-08 3.6120579e-07]\n",
      " [9.7961825e-01 1.8891627e-02 1.4805602e-03 9.6295780e-06]]\n"
     ]
    }
   ],
   "source": [
    "y_pred = model.predict(test_data)\n",
    "print(y_pred)"
   ]
  },
  {
   "cell_type": "code",
   "execution_count": 32,
   "metadata": {},
   "outputs": [
    {
     "name": "stdout",
     "output_type": "stream",
     "text": [
      "[1 3 1 ... 3 1 1]\n"
     ]
    }
   ],
   "source": [
    "predict_list =y_pred.argmax(axis=1)\n",
    "for i in range(len(predict_list)):\n",
    "    predict_list[i] += 1\n",
    "print(predict_list)"
   ]
  },
  {
   "cell_type": "code",
   "execution_count": 34,
   "metadata": {},
   "outputs": [],
   "source": [
    "ID_list = pd.read_csv(\"test.csv\")['ID']\n",
    "x = [predict_list]\n",
    "def submission_csv(predict_list):\n",
    "    for i in range(len(x)):\n",
    "        submission = pd.DataFrame({\n",
    "            \"ID\":ID_list,\n",
    "            \"class\":x[i]\n",
    "        })   \n",
    "        submission.to_csv('submission_'+'pca3'+'.csv', index= False)\n",
    "        \n",
    "submission_csv(x)"
   ]
  },
  {
   "cell_type": "code",
   "execution_count": null,
   "metadata": {},
   "outputs": [],
   "source": []
  }
 ],
 "metadata": {
  "kernelspec": {
   "display_name": "Python 3",
   "language": "python",
   "name": "python3"
  },
  "language_info": {
   "codemirror_mode": {
    "name": "ipython",
    "version": 3
   },
   "file_extension": ".py",
   "mimetype": "text/x-python",
   "name": "python",
   "nbconvert_exporter": "python",
   "pygments_lexer": "ipython3",
   "version": "3.8.5"
  }
 },
 "nbformat": 4,
 "nbformat_minor": 5
}
