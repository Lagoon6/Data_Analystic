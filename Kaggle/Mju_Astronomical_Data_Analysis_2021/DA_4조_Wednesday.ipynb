{
 "cells": [
  {
   "cell_type": "code",
   "execution_count": 1,
   "metadata": {},
   "outputs": [],
   "source": [
    "import pandas as pd\n",
    "import numpy as np\n",
    "import tensorflow as tf\n",
    "from keras import layers, models\n",
    "from tensorflow.keras.models import Sequential\n",
    "from tensorflow.keras.layers import Dense"
   ]
  },
  {
   "cell_type": "code",
   "execution_count": 2,
   "metadata": {},
   "outputs": [],
   "source": [
    "train_data = pd.read_csv(\"train.csv\")\n",
    "test_data = pd.read_csv(\"test.csv\")\n",
    "train_data.drop(['ID'],axis =1, inplace = True)\n",
    "test_data.drop(['ID'],axis =1, inplace = True)\n",
    "out_data = train_data[train_data['class']== -999].index\n",
    "X_train = train_data.drop(out_data)"
   ]
  },
  {
   "cell_type": "code",
   "execution_count": 3,
   "metadata": {},
   "outputs": [],
   "source": [
    "import numpy as np\n",
    "\n",
    "def outliers_iqr(data):\n",
    "    q1, q3 = np.percentile(data,[25,75])\n",
    "    iqr = q3 - q1\n",
    "    lower_bound = q1 - (iqr*1.5)\n",
    "    upper_bound = q3 + (iqr*1.5)\n",
    "    \n",
    "    return np.where((data> upper_bound)|(data < lower_bound))\n",
    "\n"
   ]
  },
  {
   "cell_type": "code",
   "execution_count": 4,
   "metadata": {},
   "outputs": [],
   "source": [
    "ug_lead_outlier_index = outliers_iqr(X_train['u_g'])[0]\n",
    "gr_lead_outlier_index = outliers_iqr(X_train['g_r'])[0]\n",
    "iz_lead_outlier_index = outliers_iqr(X_train['i_z'])[0]\n",
    "ri_lead_outlier_index = outliers_iqr(X_train['r_i'])[0]\n",
    "\n"
   ]
  },
  {
   "cell_type": "code",
   "execution_count": 5,
   "metadata": {},
   "outputs": [
    {
     "name": "stdout",
     "output_type": "stream",
     "text": [
      "1373\n"
     ]
    },
    {
     "data": {
      "text/plain": [
       "array([  50,  164,  168, ..., 4766, 4779, 4786], dtype=int64)"
      ]
     },
     "execution_count": 5,
     "metadata": {},
     "output_type": "execute_result"
    }
   ],
   "source": [
    "lead_outlier_index = np.concatenate((ug_lead_outlier_index,gr_lead_outlier_index,iz_lead_outlier_index,ri_lead_outlier_index), axis = None)\n",
    "\n",
    "print(len(lead_outlier_index))\n",
    "lead_outlier_index"
   ]
  },
  {
   "cell_type": "code",
   "execution_count": 6,
   "metadata": {},
   "outputs": [],
   "source": [
    "lead_not_outlier_index = []\n",
    "\n",
    "for i in X_train.index:\n",
    "    if i not in lead_outlier_index:\n",
    "        lead_not_outlier_index.append(i)"
   ]
  },
  {
   "cell_type": "code",
   "execution_count": 7,
   "metadata": {},
   "outputs": [],
   "source": [
    "X_train_clean = X_train.loc[lead_not_outlier_index]"
   ]
  },
  {
   "cell_type": "code",
   "execution_count": 8,
   "metadata": {},
   "outputs": [],
   "source": [
    "X_train_clean =X_train_clean.reset_index(drop = True)"
   ]
  },
  {
   "cell_type": "code",
   "execution_count": 9,
   "metadata": {},
   "outputs": [
    {
     "data": {
      "text/html": [
       "<div>\n",
       "<style scoped>\n",
       "    .dataframe tbody tr th:only-of-type {\n",
       "        vertical-align: middle;\n",
       "    }\n",
       "\n",
       "    .dataframe tbody tr th {\n",
       "        vertical-align: top;\n",
       "    }\n",
       "\n",
       "    .dataframe thead th {\n",
       "        text-align: right;\n",
       "    }\n",
       "</style>\n",
       "<table border=\"1\" class=\"dataframe\">\n",
       "  <thead>\n",
       "    <tr style=\"text-align: right;\">\n",
       "      <th></th>\n",
       "      <th>O3_index</th>\n",
       "      <th>O2_index</th>\n",
       "      <th>sigma_star</th>\n",
       "      <th>sigma_o3</th>\n",
       "      <th>u_g</th>\n",
       "      <th>g_r</th>\n",
       "      <th>r_i</th>\n",
       "      <th>i_z</th>\n",
       "      <th>class</th>\n",
       "    </tr>\n",
       "  </thead>\n",
       "  <tbody>\n",
       "    <tr>\n",
       "      <th>0</th>\n",
       "      <td>0.451072</td>\n",
       "      <td>0.937382</td>\n",
       "      <td>2.268922</td>\n",
       "      <td>2.418982</td>\n",
       "      <td>2.170366</td>\n",
       "      <td>1.061678</td>\n",
       "      <td>0.319187</td>\n",
       "      <td>0.442557</td>\n",
       "      <td>4</td>\n",
       "    </tr>\n",
       "    <tr>\n",
       "      <th>1</th>\n",
       "      <td>0.510605</td>\n",
       "      <td>0.151374</td>\n",
       "      <td>1.612544</td>\n",
       "      <td>1.865838</td>\n",
       "      <td>0.508636</td>\n",
       "      <td>0.128126</td>\n",
       "      <td>-0.085479</td>\n",
       "      <td>0.186809</td>\n",
       "      <td>1</td>\n",
       "    </tr>\n",
       "    <tr>\n",
       "      <th>2</th>\n",
       "      <td>0.599686</td>\n",
       "      <td>0.548090</td>\n",
       "      <td>2.929419</td>\n",
       "      <td>1.919131</td>\n",
       "      <td>2.159247</td>\n",
       "      <td>0.386518</td>\n",
       "      <td>0.000468</td>\n",
       "      <td>0.200131</td>\n",
       "      <td>1</td>\n",
       "    </tr>\n",
       "    <tr>\n",
       "      <th>3</th>\n",
       "      <td>0.604691</td>\n",
       "      <td>0.280999</td>\n",
       "      <td>2.186746</td>\n",
       "      <td>1.878498</td>\n",
       "      <td>2.077146</td>\n",
       "      <td>0.342641</td>\n",
       "      <td>0.058967</td>\n",
       "      <td>0.113909</td>\n",
       "      <td>1</td>\n",
       "    </tr>\n",
       "    <tr>\n",
       "      <th>4</th>\n",
       "      <td>0.179108</td>\n",
       "      <td>0.407228</td>\n",
       "      <td>2.929419</td>\n",
       "      <td>1.907366</td>\n",
       "      <td>0.531721</td>\n",
       "      <td>0.927510</td>\n",
       "      <td>0.926920</td>\n",
       "      <td>0.473041</td>\n",
       "      <td>1</td>\n",
       "    </tr>\n",
       "    <tr>\n",
       "      <th>...</th>\n",
       "      <td>...</td>\n",
       "      <td>...</td>\n",
       "      <td>...</td>\n",
       "      <td>...</td>\n",
       "      <td>...</td>\n",
       "      <td>...</td>\n",
       "      <td>...</td>\n",
       "      <td>...</td>\n",
       "      <td>...</td>\n",
       "    </tr>\n",
       "    <tr>\n",
       "      <th>3842</th>\n",
       "      <td>0.126068</td>\n",
       "      <td>0.470348</td>\n",
       "      <td>2.105984</td>\n",
       "      <td>1.954821</td>\n",
       "      <td>3.457254</td>\n",
       "      <td>0.437733</td>\n",
       "      <td>0.315954</td>\n",
       "      <td>-0.038082</td>\n",
       "      <td>1</td>\n",
       "    </tr>\n",
       "    <tr>\n",
       "      <th>3843</th>\n",
       "      <td>0.286460</td>\n",
       "      <td>0.595089</td>\n",
       "      <td>2.268873</td>\n",
       "      <td>2.189953</td>\n",
       "      <td>0.979456</td>\n",
       "      <td>1.156014</td>\n",
       "      <td>0.436563</td>\n",
       "      <td>0.236892</td>\n",
       "      <td>2</td>\n",
       "    </tr>\n",
       "    <tr>\n",
       "      <th>3844</th>\n",
       "      <td>-0.485462</td>\n",
       "      <td>0.127759</td>\n",
       "      <td>1.976665</td>\n",
       "      <td>1.881013</td>\n",
       "      <td>1.405806</td>\n",
       "      <td>0.409949</td>\n",
       "      <td>-0.717391</td>\n",
       "      <td>0.843585</td>\n",
       "      <td>1</td>\n",
       "    </tr>\n",
       "    <tr>\n",
       "      <th>3845</th>\n",
       "      <td>-0.383982</td>\n",
       "      <td>0.273225</td>\n",
       "      <td>2.074568</td>\n",
       "      <td>2.072062</td>\n",
       "      <td>1.793438</td>\n",
       "      <td>0.943150</td>\n",
       "      <td>0.408677</td>\n",
       "      <td>0.368323</td>\n",
       "      <td>1</td>\n",
       "    </tr>\n",
       "    <tr>\n",
       "      <th>3846</th>\n",
       "      <td>-0.208424</td>\n",
       "      <td>0.396360</td>\n",
       "      <td>1.626200</td>\n",
       "      <td>1.902971</td>\n",
       "      <td>0.802599</td>\n",
       "      <td>0.407845</td>\n",
       "      <td>0.300420</td>\n",
       "      <td>0.033080</td>\n",
       "      <td>1</td>\n",
       "    </tr>\n",
       "  </tbody>\n",
       "</table>\n",
       "<p>3847 rows × 9 columns</p>\n",
       "</div>"
      ],
      "text/plain": [
       "      O3_index  O2_index  sigma_star  sigma_o3       u_g       g_r       r_i  \\\n",
       "0     0.451072  0.937382    2.268922  2.418982  2.170366  1.061678  0.319187   \n",
       "1     0.510605  0.151374    1.612544  1.865838  0.508636  0.128126 -0.085479   \n",
       "2     0.599686  0.548090    2.929419  1.919131  2.159247  0.386518  0.000468   \n",
       "3     0.604691  0.280999    2.186746  1.878498  2.077146  0.342641  0.058967   \n",
       "4     0.179108  0.407228    2.929419  1.907366  0.531721  0.927510  0.926920   \n",
       "...        ...       ...         ...       ...       ...       ...       ...   \n",
       "3842  0.126068  0.470348    2.105984  1.954821  3.457254  0.437733  0.315954   \n",
       "3843  0.286460  0.595089    2.268873  2.189953  0.979456  1.156014  0.436563   \n",
       "3844 -0.485462  0.127759    1.976665  1.881013  1.405806  0.409949 -0.717391   \n",
       "3845 -0.383982  0.273225    2.074568  2.072062  1.793438  0.943150  0.408677   \n",
       "3846 -0.208424  0.396360    1.626200  1.902971  0.802599  0.407845  0.300420   \n",
       "\n",
       "           i_z  class  \n",
       "0     0.442557      4  \n",
       "1     0.186809      1  \n",
       "2     0.200131      1  \n",
       "3     0.113909      1  \n",
       "4     0.473041      1  \n",
       "...        ...    ...  \n",
       "3842 -0.038082      1  \n",
       "3843  0.236892      2  \n",
       "3844  0.843585      1  \n",
       "3845  0.368323      1  \n",
       "3846  0.033080      1  \n",
       "\n",
       "[3847 rows x 9 columns]"
      ]
     },
     "execution_count": 9,
     "metadata": {},
     "output_type": "execute_result"
    }
   ],
   "source": [
    "X_train_clean"
   ]
  },
  {
   "cell_type": "code",
   "execution_count": 10,
   "metadata": {},
   "outputs": [],
   "source": [
    "X_train_new = X_train_clean.drop(['class'], axis=1)\n",
    "y_train = X_train_clean['class']"
   ]
  },
  {
   "cell_type": "code",
   "execution_count": 11,
   "metadata": {},
   "outputs": [
    {
     "data": {
      "text/plain": [
       "array([[ 1.52747072e-01,  1.60454967e+00, -6.39206256e-01, ...,\n",
       "        -1.26987621e+00, -2.65687391e-01, -1.68594206e-01],\n",
       "       [ 1.96820817e+00,  3.89088651e-01,  2.03708330e-01, ...,\n",
       "         2.73327118e-01,  1.89399286e-02,  8.33234947e-02],\n",
       "       [-1.44959748e+00, -1.63592840e+00,  3.14011542e-01, ...,\n",
       "         7.47206376e-01,  3.37180099e-02,  1.74161616e-01],\n",
       "       ...,\n",
       "       [ 1.26463217e+00, -2.59773812e-01,  6.35339861e-01, ...,\n",
       "         1.25411023e+00,  2.27671536e-01,  1.36708441e-01],\n",
       "       [-1.18675465e+00, -1.17255651e+00, -8.23475390e-01, ...,\n",
       "        -1.04407660e+00, -2.23102021e-01, -1.89598514e-01],\n",
       "       [ 1.00179475e+00,  9.86949330e-01,  1.81359903e+00, ...,\n",
       "        -1.22618051e+00, -1.80839144e-01, -1.96431244e-03]])"
      ]
     },
     "execution_count": 11,
     "metadata": {},
     "output_type": "execute_result"
    }
   ],
   "source": [
    "from sklearn.preprocessing import StandardScaler\n",
    "\n",
    "scaler = StandardScaler()\n",
    "scaler.fit(X_train_new)\n",
    "scaler.transform(X_train_new)\n",
    "scaler.fit(test_data)\n",
    "scaler.transform(test_data)"
   ]
  },
  {
   "cell_type": "code",
   "execution_count": 12,
   "metadata": {},
   "outputs": [],
   "source": [
    "from sklearn.preprocessing import LabelEncoder\n",
    "LE = LabelEncoder()\n",
    "LE.fit(y_train)\n",
    "y_train = LE.transform(y_train)\n",
    "\n",
    "from keras.utils import np_utils\n",
    "y_train = np_utils.to_categorical(y_train)"
   ]
  },
  {
   "cell_type": "code",
   "execution_count": 15,
   "metadata": {},
   "outputs": [
    {
     "data": {
      "text/plain": [
       "GridSearchCV(cv=5, estimator=RandomForestRegressor(random_state=42),\n",
       "             param_grid=[{'max_features': [2, 4, 6, 8],\n",
       "                          'n_estimators': [3, 10, 30]},\n",
       "                         {'max_features': [2, 3, 4], 'n_estimators': [3, 5]}],\n",
       "             return_train_score=True, scoring='neg_mean_squared_error')"
      ]
     },
     "execution_count": 15,
     "metadata": {},
     "output_type": "execute_result"
    }
   ],
   "source": [
    "\n",
    "from sklearn.ensemble import RandomForestRegressor\n",
    "from sklearn.model_selection import GridSearchCV\n",
    "\n",
    "param_grid = [\n",
    "    {'n_estimators': [3, 10, 30], 'max_features': [2, 4, 6, 8]}, # 12(=3×4)개의 하이퍼파라미터 조합을 시도합니다.\n",
    "    {'n_estimators': [3, 5], 'max_features': [2, 3, 4]},     # 6(=2×3)개의 조합을 시도합니다.\n",
    "  ]\n",
    "\n",
    "model = RandomForestRegressor(random_state=42)\n",
    "\n",
    "# 다섯 개의 폴드로 훈련하면 총 (12+6)*5=90번의 훈련이 일어납니다.\n",
    "grid_search = GridSearchCV(model, param_grid, cv=5,\n",
    "                           scoring='neg_mean_squared_error',\n",
    "                           return_train_score=True)\n",
    "\n",
    "grid_search.fit(X_train_new, y_train)"
   ]
  },
  {
   "cell_type": "code",
   "execution_count": 16,
   "metadata": {},
   "outputs": [
    {
     "data": {
      "text/plain": [
       "{'max_features': 6, 'n_estimators': 30}"
      ]
     },
     "execution_count": 16,
     "metadata": {},
     "output_type": "execute_result"
    }
   ],
   "source": [
    "grid_search.best_params_"
   ]
  },
  {
   "cell_type": "code",
   "execution_count": 17,
   "metadata": {},
   "outputs": [
    {
     "data": {
      "text/plain": [
       "RandomForestRegressor(max_features=6, n_estimators=30, random_state=42)"
      ]
     },
     "execution_count": 17,
     "metadata": {},
     "output_type": "execute_result"
    }
   ],
   "source": [
    "grid_search.best_estimator_"
   ]
  },
  {
   "cell_type": "code",
   "execution_count": 20,
   "metadata": {},
   "outputs": [
    {
     "name": "stdout",
     "output_type": "stream",
     "text": [
      "[[1.         0.         0.         0.        ]\n",
      " [0.         0.         1.         0.        ]\n",
      " [0.43333333 0.56666667 0.         0.        ]\n",
      " ...\n",
      " [0.         0.         0.83333333 0.16666667]\n",
      " [1.         0.         0.         0.        ]\n",
      " [0.9        0.1        0.         0.        ]]\n"
     ]
    }
   ],
   "source": [
    "final_model = grid_search.best_estimator_\n",
    "\n",
    "final_predictions = final_model.predict(test_data)\n",
    "print(final_predictions)"
   ]
  },
  {
   "cell_type": "code",
   "execution_count": 19,
   "metadata": {},
   "outputs": [
    {
     "ename": "NotFittedError",
     "evalue": "This RandomForestRegressor instance is not fitted yet. Call 'fit' with appropriate arguments before using this estimator.",
     "output_type": "error",
     "traceback": [
      "\u001b[1;31m---------------------------------------------------------------------------\u001b[0m",
      "\u001b[1;31mNotFittedError\u001b[0m                            Traceback (most recent call last)",
      "\u001b[1;32m<ipython-input-19-323c3d02dc76>\u001b[0m in \u001b[0;36m<module>\u001b[1;34m\u001b[0m\n\u001b[1;32m----> 1\u001b[1;33m \u001b[0my_pred\u001b[0m \u001b[1;33m=\u001b[0m \u001b[0mmodel\u001b[0m\u001b[1;33m.\u001b[0m\u001b[0mpredict\u001b[0m\u001b[1;33m(\u001b[0m\u001b[0mtest_data\u001b[0m\u001b[1;33m)\u001b[0m\u001b[1;33m\u001b[0m\u001b[1;33m\u001b[0m\u001b[0m\n\u001b[0m\u001b[0;32m      2\u001b[0m \u001b[0mprint\u001b[0m\u001b[1;33m(\u001b[0m\u001b[0my_pred\u001b[0m\u001b[1;33m)\u001b[0m\u001b[1;33m\u001b[0m\u001b[1;33m\u001b[0m\u001b[0m\n",
      "\u001b[1;32m~\\anaconda3\\lib\\site-packages\\sklearn\\ensemble\\_forest.py\u001b[0m in \u001b[0;36mpredict\u001b[1;34m(self, X)\u001b[0m\n\u001b[0;32m    779\u001b[0m             \u001b[0mThe\u001b[0m \u001b[0mpredicted\u001b[0m \u001b[0mvalues\u001b[0m\u001b[1;33m.\u001b[0m\u001b[1;33m\u001b[0m\u001b[1;33m\u001b[0m\u001b[0m\n\u001b[0;32m    780\u001b[0m         \"\"\"\n\u001b[1;32m--> 781\u001b[1;33m         \u001b[0mcheck_is_fitted\u001b[0m\u001b[1;33m(\u001b[0m\u001b[0mself\u001b[0m\u001b[1;33m)\u001b[0m\u001b[1;33m\u001b[0m\u001b[1;33m\u001b[0m\u001b[0m\n\u001b[0m\u001b[0;32m    782\u001b[0m         \u001b[1;31m# Check data\u001b[0m\u001b[1;33m\u001b[0m\u001b[1;33m\u001b[0m\u001b[1;33m\u001b[0m\u001b[0m\n\u001b[0;32m    783\u001b[0m         \u001b[0mX\u001b[0m \u001b[1;33m=\u001b[0m \u001b[0mself\u001b[0m\u001b[1;33m.\u001b[0m\u001b[0m_validate_X_predict\u001b[0m\u001b[1;33m(\u001b[0m\u001b[0mX\u001b[0m\u001b[1;33m)\u001b[0m\u001b[1;33m\u001b[0m\u001b[1;33m\u001b[0m\u001b[0m\n",
      "\u001b[1;32m~\\anaconda3\\lib\\site-packages\\sklearn\\utils\\validation.py\u001b[0m in \u001b[0;36minner_f\u001b[1;34m(*args, **kwargs)\u001b[0m\n\u001b[0;32m     70\u001b[0m                           FutureWarning)\n\u001b[0;32m     71\u001b[0m         \u001b[0mkwargs\u001b[0m\u001b[1;33m.\u001b[0m\u001b[0mupdate\u001b[0m\u001b[1;33m(\u001b[0m\u001b[1;33m{\u001b[0m\u001b[0mk\u001b[0m\u001b[1;33m:\u001b[0m \u001b[0marg\u001b[0m \u001b[1;32mfor\u001b[0m \u001b[0mk\u001b[0m\u001b[1;33m,\u001b[0m \u001b[0marg\u001b[0m \u001b[1;32min\u001b[0m \u001b[0mzip\u001b[0m\u001b[1;33m(\u001b[0m\u001b[0msig\u001b[0m\u001b[1;33m.\u001b[0m\u001b[0mparameters\u001b[0m\u001b[1;33m,\u001b[0m \u001b[0margs\u001b[0m\u001b[1;33m)\u001b[0m\u001b[1;33m}\u001b[0m\u001b[1;33m)\u001b[0m\u001b[1;33m\u001b[0m\u001b[1;33m\u001b[0m\u001b[0m\n\u001b[1;32m---> 72\u001b[1;33m         \u001b[1;32mreturn\u001b[0m \u001b[0mf\u001b[0m\u001b[1;33m(\u001b[0m\u001b[1;33m**\u001b[0m\u001b[0mkwargs\u001b[0m\u001b[1;33m)\u001b[0m\u001b[1;33m\u001b[0m\u001b[1;33m\u001b[0m\u001b[0m\n\u001b[0m\u001b[0;32m     73\u001b[0m     \u001b[1;32mreturn\u001b[0m \u001b[0minner_f\u001b[0m\u001b[1;33m\u001b[0m\u001b[1;33m\u001b[0m\u001b[0m\n\u001b[0;32m     74\u001b[0m \u001b[1;33m\u001b[0m\u001b[0m\n",
      "\u001b[1;32m~\\anaconda3\\lib\\site-packages\\sklearn\\utils\\validation.py\u001b[0m in \u001b[0;36mcheck_is_fitted\u001b[1;34m(estimator, attributes, msg, all_or_any)\u001b[0m\n\u001b[0;32m   1017\u001b[0m \u001b[1;33m\u001b[0m\u001b[0m\n\u001b[0;32m   1018\u001b[0m     \u001b[1;32mif\u001b[0m \u001b[1;32mnot\u001b[0m \u001b[0mattrs\u001b[0m\u001b[1;33m:\u001b[0m\u001b[1;33m\u001b[0m\u001b[1;33m\u001b[0m\u001b[0m\n\u001b[1;32m-> 1019\u001b[1;33m         \u001b[1;32mraise\u001b[0m \u001b[0mNotFittedError\u001b[0m\u001b[1;33m(\u001b[0m\u001b[0mmsg\u001b[0m \u001b[1;33m%\u001b[0m \u001b[1;33m{\u001b[0m\u001b[1;34m'name'\u001b[0m\u001b[1;33m:\u001b[0m \u001b[0mtype\u001b[0m\u001b[1;33m(\u001b[0m\u001b[0mestimator\u001b[0m\u001b[1;33m)\u001b[0m\u001b[1;33m.\u001b[0m\u001b[0m__name__\u001b[0m\u001b[1;33m}\u001b[0m\u001b[1;33m)\u001b[0m\u001b[1;33m\u001b[0m\u001b[1;33m\u001b[0m\u001b[0m\n\u001b[0m\u001b[0;32m   1020\u001b[0m \u001b[1;33m\u001b[0m\u001b[0m\n\u001b[0;32m   1021\u001b[0m \u001b[1;33m\u001b[0m\u001b[0m\n",
      "\u001b[1;31mNotFittedError\u001b[0m: This RandomForestRegressor instance is not fitted yet. Call 'fit' with appropriate arguments before using this estimator."
     ]
    }
   ],
   "source": [
    "y_pred = model.predict(test_data)\n",
    "print(y_pred)"
   ]
  },
  {
   "cell_type": "code",
   "execution_count": 21,
   "metadata": {},
   "outputs": [
    {
     "name": "stdout",
     "output_type": "stream",
     "text": [
      "[1 3 2 ... 3 1 1]\n"
     ]
    }
   ],
   "source": [
    "predict_list =final_predictions.argmax(axis=1)\n",
    "for i in range(len(predict_list)):\n",
    "    predict_list[i] += 1\n",
    "print(predict_list)"
   ]
  },
  {
   "cell_type": "code",
   "execution_count": 22,
   "metadata": {},
   "outputs": [],
   "source": [
    "ID_list = pd.read_csv(\"test.csv\")['ID']\n",
    "x = [predict_list]\n",
    "def submission_csv(predict_list):\n",
    "    for i in range(len(x)):\n",
    "        submission = pd.DataFrame({\n",
    "            \"ID\":ID_list,\n",
    "            \"class\":x[i]\n",
    "        })   \n",
    "        submission.to_csv('submission_'+'grcvoutiler'+'.csv', index= False)\n",
    "        \n",
    "submission_csv(x)"
   ]
  },
  {
   "cell_type": "code",
   "execution_count": null,
   "metadata": {},
   "outputs": [],
   "source": []
  }
 ],
 "metadata": {
  "kernelspec": {
   "display_name": "Python 3",
   "language": "python",
   "name": "python3"
  },
  "language_info": {
   "codemirror_mode": {
    "name": "ipython",
    "version": 3
   },
   "file_extension": ".py",
   "mimetype": "text/x-python",
   "name": "python",
   "nbconvert_exporter": "python",
   "pygments_lexer": "ipython3",
   "version": "3.8.5"
  }
 },
 "nbformat": 4,
 "nbformat_minor": 5
}
